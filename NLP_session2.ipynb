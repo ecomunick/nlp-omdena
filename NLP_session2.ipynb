{
  "nbformat": 4,
  "nbformat_minor": 0,
  "metadata": {
    "colab": {
      "provenance": [],
      "authorship_tag": "ABX9TyNpIITar9Xjm8iXF2Js0haa",
      "include_colab_link": true
    },
    "kernelspec": {
      "name": "python3",
      "display_name": "Python 3"
    },
    "language_info": {
      "name": "python"
    }
  },
  "cells": [
    {
      "cell_type": "markdown",
      "metadata": {
        "id": "view-in-github",
        "colab_type": "text"
      },
      "source": [
        "<a href=\"https://colab.research.google.com/github/ecomunick/nlp-omdena/blob/main/NLP_session2.ipynb\" target=\"_parent\"><img src=\"https://colab.research.google.com/assets/colab-badge.svg\" alt=\"Open In Colab\"/></a>"
      ]
    },
    {
      "cell_type": "code",
      "execution_count": 6,
      "metadata": {
        "colab": {
          "base_uri": "https://localhost:8080/"
        },
        "id": "Lz6LdvwIV6gG",
        "outputId": "2749aed0-d02d-404e-d46f-17724ba51f40"
      },
      "outputs": [
        {
          "output_type": "stream",
          "name": "stdout",
          "text": [
            "The DET\n",
            "cat NOUN\n",
            "sat VERB\n",
            "on ADP\n",
            "the DET\n",
            "ground NOUN\n",
            "[cat, ground]\n"
          ]
        }
      ],
      "source": [
        "import spacy\n",
        "nlp = spacy.load(\"en_core_web_sm\")\n",
        "\n",
        "text = 'The cat sat on the ground'\n",
        "doc = nlp(text)\n",
        "for token in doc:\n",
        "  print(token.text, token.pos_)\n",
        "\n",
        "# to extract only the parts that we want\n",
        "noun = [token for token in doc if token.pos_ == 'NOUN']\n",
        "print(noun)"
      ]
    },
    {
      "cell_type": "code",
      "source": [],
      "metadata": {
        "colab": {
          "base_uri": "https://localhost:8080/"
        },
        "id": "KPRmZl88WVlw",
        "outputId": "2e9b58db-3ca1-4f59-9b4e-b03398e9133e"
      },
      "execution_count": 2,
      "outputs": [
        {
          "output_type": "stream",
          "name": "stdout",
          "text": [
            "[]\n"
          ]
        }
      ]
    },
    {
      "cell_type": "code",
      "source": [],
      "metadata": {
        "id": "_daxrLwWWyOn"
      },
      "execution_count": null,
      "outputs": []
    }
  ]
}